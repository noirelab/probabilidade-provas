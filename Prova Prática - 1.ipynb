{
 "cells": [
  {
   "cell_type": "markdown",
   "metadata": {},
   "source": [
    "Aluno: Kaíque Medeiros Lima\n",
    "\n",
    "RA: 2587297\n",
    "\n",
    "Curso: Engenharia de Computação"
   ]
  },
  {
   "cell_type": "code",
   "execution_count": 1,
   "metadata": {},
   "outputs": [],
   "source": [
    "import pandas as pd\n",
    "import math\n",
    "import statistics as st\n",
    "import seaborn as sns\n",
    "import matplotlib.pyplot as plt"
   ]
  },
  {
   "cell_type": "code",
   "execution_count": 2,
   "metadata": {},
   "outputs": [],
   "source": [
    "dados = pd.read_excel('ethereum.xlsx')\n",
    "dados = pd.DataFrame(dados)"
   ]
  },
  {
   "cell_type": "code",
   "execution_count": 3,
   "metadata": {},
   "outputs": [],
   "source": [
    "# 1. Amostragem simples\n",
    "amostragem_simples1 = dados.sample(36)"
   ]
  },
  {
   "cell_type": "code",
   "execution_count": 4,
   "metadata": {},
   "outputs": [],
   "source": [
    "tamanho = len(amostragem_simples1['Máxima'])\n",
    "R = max(amostragem_simples1['Máxima']) - min(amostragem_simples1['Máxima']) # amplitude total\n",
    "\n",
    "if tamanho <= 25:\n",
    "    k = 5\n",
    "else:\n",
    "    k = tamanho**(1/2)\n",
    "    \n",
    "h = R/k\n",
    "h = math.ceil(h)\n",
    "\n",
    "# gerar a tabela\n",
    "classes = []\n",
    "\n",
    "# gerar as classes\n",
    "fa = []"
   ]
  },
  {
   "cell_type": "code",
   "execution_count": 5,
   "metadata": {},
   "outputs": [],
   "source": [
    "valor = min(amostragem_simples1['Máxima'])\n",
    "while valor <= max(amostragem_simples1['Máxima']):\n",
    "    if valor + h == max(amostragem_simples1['Máxima']):\n",
    "        classes.append('{} |-| {}'.format(valor, valor + h))\n",
    "        fa.append(((valor <= pd.Series(amostragem_simples1['Máxima'])) & (pd.Series(amostragem_simples1['Máxima']) <= valor + h)).sum())\n",
    "        valor += h\n",
    "        break\n",
    "    else:\n",
    "        classes.append('{} |- {}'.format(valor, valor+h))\n",
    "        fa.append(((valor <= pd.Series(amostragem_simples1['Máxima'])) & (pd.Series(amostragem_simples1['Máxima']) < valor + h)).sum())\n",
    "        valor += h"
   ]
  },
  {
   "cell_type": "code",
   "execution_count": 6,
   "metadata": {},
   "outputs": [],
   "source": [
    "df = pd.DataFrame(zip(classes, fa), columns=['Intervalo de classes', 'fa'])"
   ]
  },
  {
   "cell_type": "code",
   "execution_count": 7,
   "metadata": {},
   "outputs": [],
   "source": [
    "# calculando os totais\n",
    "total = pd.DataFrame((df[['Intervalo de classes', 'fa']]).sum()).T\n",
    "total['Intervalo de classes'] = 'Total'"
   ]
  },
  {
   "cell_type": "code",
   "execution_count": 8,
   "metadata": {},
   "outputs": [
    {
     "name": "stdout",
     "output_type": "stream",
     "text": [
      "  Intervalo de classes  fa\n",
      "0   2264.66 |- 2569.66  17\n",
      "1   2569.66 |- 2874.66   5\n",
      "2   2874.66 |- 3179.66   3\n",
      "3   3179.66 |- 3484.66   3\n",
      "4   3484.66 |- 3789.66   2\n",
      "5   3789.66 |- 4094.66   6\n",
      "0                Total  36\n"
     ]
    }
   ],
   "source": [
    "# 2. Tabela\n",
    "df = pd.concat([df, total])\n",
    "print(df)"
   ]
  },
  {
   "cell_type": "code",
   "execution_count": 9,
   "metadata": {},
   "outputs": [
    {
     "name": "stdout",
     "output_type": "stream",
     "text": [
      "Média: 2888.43\n",
      "Mediana: 2591.43\n",
      "Moda: 2383.92\n",
      "Variância: 377805.20\n",
      "Desvio Padrão: 614.66\n",
      "Coeficiente de Variação: 21.28%\n",
      "O Coeficiente de variação resulta num padrão de alta dispersão dos dados.\n"
     ]
    }
   ],
   "source": [
    "# 3. Estatística descritiva\n",
    "data = amostragem_simples1['Máxima']\n",
    "\n",
    "print(f'Média: %.2f' % st.mean(data))\n",
    "print(f'Mediana: %.2f' % st.median(data))\n",
    "print(f'Moda: %.2f' % st.mode(data))\n",
    "print(f'Variância: %.2f' % st.variance(data))\n",
    "print(f'Desvio Padrão: %.2f' % st.stdev(data))\n",
    "print(f'Coeficiente de Variação: %.2f%%' % (st.stdev(data)/st.mean(data) * 100))\n",
    "print(\"O Coeficiente de variação resulta num padrão de alta dispersão dos dados.\")"
   ]
  },
  {
   "cell_type": "code",
   "execution_count": 10,
   "metadata": {},
   "outputs": [
    {
     "data": {
      "text/plain": [
       "Text(0.5, 1.0, 'Boxplot')"
      ]
     },
     "execution_count": 10,
     "metadata": {},
     "output_type": "execute_result"
    },
    {
     "data": {
      "image/png": "[encoded data removed]",
      "text/plain": [
       "<Figure size 640x480 with 1 Axes>"
      ]
     },
     "metadata": {},
     "output_type": "display_data"
    }
   ],
   "source": [
    "# 4. Boxplot\n",
    "sns.boxplot(data, color='lime', width=0.2)\n",
    "plt.title('Boxplot')"
   ]
  },
  {
   "cell_type": "code",
   "execution_count": 11,
   "metadata": {},
   "outputs": [
    {
     "data": {
      "text/plain": [
       "(array([20.,  3.,  3.,  4.,  6.]),\n",
       " array([2264.66 , 2629.984, 2995.308, 3360.632, 3725.956, 4091.28 ]),\n",
       " <BarContainer object of 5 artists>)"
      ]
     },
     "execution_count": 11,
     "metadata": {},
     "output_type": "execute_result"
    },
    {
     "data": {
      "image/png": "[encoded data removed]",
      "text/plain": [
       "<Figure size 640x480 with 1 Axes>"
      ]
     },
     "metadata": {},
     "output_type": "display_data"
    }
   ],
   "source": [
    "# 5. Histograma\n",
    "plt.hist(data, bins=5, color='lime', edgecolor='black')"
   ]
  },
  {
   "cell_type": "code",
   "execution_count": 12,
   "metadata": {},
   "outputs": [
    {
     "name": "stdout",
     "output_type": "stream",
     "text": [
      "Q1: 2375.74\n",
      "Q2: 2591.43\n",
      "Q3: 3389.74\n",
      "Limite Inferior: 854.73\n",
      "Limite Superior: 4910.75\n"
     ]
    }
   ],
   "source": [
    "# 6. Análise do boxplot e histograma\n",
    "\n",
    "# O boxplot e o histograma mostram que a distribuição dos dados\n",
    "# é assimétrica à direita. A média é maior que a mediana e a moda,\n",
    "# o que comprova a direção da assimetria.\n",
    "\n",
    "# dados necessários para fazer o boxplot\n",
    "q1 = data.quantile(0.25)\n",
    "q2 = data.quantile(0.5) # mediana\n",
    "q3 = data.quantile(0.75)\n",
    "limite_inferior = q1 - 1.5*(q3 - q1)\n",
    "limite_superior = q3 + 1.5*(q3 - q1)\n",
    "\n",
    "print(f'Q1: %.2f' % q1)\n",
    "print(f'Q2: %.2f' % q2)\n",
    "print(f'Q3: %.2f' % q3)\n",
    "print(f'Limite Inferior: %.2f' % limite_inferior)\n",
    "print(f'Limite Superior: %.2f' % limite_superior)"
   ]
  },
  {
   "cell_type": "code",
   "execution_count": 13,
   "metadata": {},
   "outputs": [
    {
     "name": "stdout",
     "output_type": "stream",
     "text": [
      "Assimetria: 0.78 \n",
      "Curtose: -0.93 \n",
      "A assimetria é positiva, o que indica que a distribuição é assimétrica à direita.\n",
      "Comprovando o que foi observado no boxplot e no histograma.\n"
     ]
    }
   ],
   "source": [
    "# 7. Cálculo do coeficiente de assimetria e curtose\n",
    "assimetria = data.skew()\n",
    "print(f'Assimetria: %.2f ' % assimetria)\n",
    "\n",
    "curtose = data.kurtosis()\n",
    "print(f'Curtose: %.2f ' % curtose)\n",
    "\n",
    "print(\"A assimetria é positiva, o que indica que a distribuição é assimétrica à direita.\") \n",
    "print(\"Comprovando o que foi observado no boxplot e no histograma.\")\n"
   ]
  }
 ],
 "metadata": {
  "kernelspec": {
   "display_name": "Python 3",
   "language": "python",
   "name": "python3"
  },
  "language_info": {
   "codemirror_mode": {
    "name": "ipython",
    "version": 3
   },
   "file_extension": ".py",
   "mimetype": "text/x-python",
   "name": "python",
   "nbconvert_exporter": "python",
   "pygments_lexer": "ipython3",
   "version": "3.12.0"
  }
 },
 "nbformat": 4,
 "nbformat_minor": 2
}
